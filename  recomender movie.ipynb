{
 "cells": [
  {
   "cell_type": "code",
   "execution_count": 1,
   "id": "876b077e-1d52-4a60-adec-cedbde89a767",
   "metadata": {},
   "outputs": [],
   "source": [
    "import pandas as pd\n",
    "import numpy as np"
   ]
  },
  {
   "cell_type": "code",
   "execution_count": 2,
   "id": "f47acd75-994d-4b87-a0aa-f0cc4f42ab89",
   "metadata": {},
   "outputs": [],
   "source": [
    "pd.set_option('display.max_column', None)"
   ]
  },
  {
   "cell_type": "markdown",
   "id": "8d48578e-d869-43f5-a192-2d38f5208f04",
   "metadata": {},
   "source": [
    "import all csv from downloaded from kaggel and combine and save before data engineering"
   ]
  },
  {
   "cell_type": "code",
   "execution_count": 3,
   "id": "9898d66e-e973-457e-a8e6-5f03f05ceaa3",
   "metadata": {},
   "outputs": [
    {
     "data": {
      "text/html": [
       "<div>\n",
       "<style scoped>\n",
       "    .dataframe tbody tr th:only-of-type {\n",
       "        vertical-align: middle;\n",
       "    }\n",
       "\n",
       "    .dataframe tbody tr th {\n",
       "        vertical-align: top;\n",
       "    }\n",
       "\n",
       "    .dataframe thead th {\n",
       "        text-align: right;\n",
       "    }\n",
       "</style>\n",
       "<table border=\"1\" class=\"dataframe\">\n",
       "  <thead>\n",
       "    <tr style=\"text-align: right;\">\n",
       "      <th></th>\n",
       "      <th>cast</th>\n",
       "      <th>crew</th>\n",
       "      <th>id</th>\n",
       "    </tr>\n",
       "  </thead>\n",
       "  <tbody>\n",
       "    <tr>\n",
       "      <th>0</th>\n",
       "      <td>[{'cast_id': 14, 'character': 'Woody (voice)',...</td>\n",
       "      <td>[{'credit_id': '52fe4284c3a36847f8024f49', 'de...</td>\n",
       "      <td>862</td>\n",
       "    </tr>\n",
       "    <tr>\n",
       "      <th>1</th>\n",
       "      <td>[{'cast_id': 1, 'character': 'Alan Parrish', '...</td>\n",
       "      <td>[{'credit_id': '52fe44bfc3a36847f80a7cd1', 'de...</td>\n",
       "      <td>8844</td>\n",
       "    </tr>\n",
       "    <tr>\n",
       "      <th>2</th>\n",
       "      <td>[{'cast_id': 2, 'character': 'Max Goldman', 'c...</td>\n",
       "      <td>[{'credit_id': '52fe466a9251416c75077a89', 'de...</td>\n",
       "      <td>15602</td>\n",
       "    </tr>\n",
       "    <tr>\n",
       "      <th>3</th>\n",
       "      <td>[{'cast_id': 1, 'character': \"Savannah 'Vannah...</td>\n",
       "      <td>[{'credit_id': '52fe44779251416c91011acb', 'de...</td>\n",
       "      <td>31357</td>\n",
       "    </tr>\n",
       "    <tr>\n",
       "      <th>4</th>\n",
       "      <td>[{'cast_id': 1, 'character': 'George Banks', '...</td>\n",
       "      <td>[{'credit_id': '52fe44959251416c75039ed7', 'de...</td>\n",
       "      <td>11862</td>\n",
       "    </tr>\n",
       "  </tbody>\n",
       "</table>\n",
       "</div>"
      ],
      "text/plain": [
       "                                                cast  \\\n",
       "0  [{'cast_id': 14, 'character': 'Woody (voice)',...   \n",
       "1  [{'cast_id': 1, 'character': 'Alan Parrish', '...   \n",
       "2  [{'cast_id': 2, 'character': 'Max Goldman', 'c...   \n",
       "3  [{'cast_id': 1, 'character': \"Savannah 'Vannah...   \n",
       "4  [{'cast_id': 1, 'character': 'George Banks', '...   \n",
       "\n",
       "                                                crew     id  \n",
       "0  [{'credit_id': '52fe4284c3a36847f8024f49', 'de...    862  \n",
       "1  [{'credit_id': '52fe44bfc3a36847f80a7cd1', 'de...   8844  \n",
       "2  [{'credit_id': '52fe466a9251416c75077a89', 'de...  15602  \n",
       "3  [{'credit_id': '52fe44779251416c91011acb', 'de...  31357  \n",
       "4  [{'credit_id': '52fe44959251416c75039ed7', 'de...  11862  "
      ]
     },
     "execution_count": 3,
     "metadata": {},
     "output_type": "execute_result"
    }
   ],
   "source": [
    "#%%timeit\n",
    "cridits_df=pd.read_csv('D:/Desktop/DS projects/movie/credits.csv')\n",
    "cridits_df.head()"
   ]
  },
  {
   "cell_type": "code",
   "execution_count": 4,
   "id": "6a76b825-d5ee-4272-b0f6-9020f1c486dc",
   "metadata": {},
   "outputs": [
    {
     "name": "stdout",
     "output_type": "stream",
     "text": [
      "<class 'pandas.core.frame.DataFrame'>\n",
      "RangeIndex: 45476 entries, 0 to 45475\n",
      "Data columns (total 3 columns):\n",
      " #   Column  Non-Null Count  Dtype \n",
      "---  ------  --------------  ----- \n",
      " 0   cast    45476 non-null  object\n",
      " 1   crew    45476 non-null  object\n",
      " 2   id      45476 non-null  int64 \n",
      "dtypes: int64(1), object(2)\n",
      "memory usage: 1.0+ MB\n"
     ]
    },
    {
     "data": {
      "text/plain": [
       "cast    object\n",
       "crew    object\n",
       "id       int64\n",
       "dtype: object"
      ]
     },
     "execution_count": 4,
     "metadata": {},
     "output_type": "execute_result"
    }
   ],
   "source": [
    "cridits_df.info()\n",
    "#cridits_df.isnull().sum()\n",
    "cridits_df.dtypes"
   ]
  },
  {
   "cell_type": "markdown",
   "id": "60d4f100-ebc2-4a4b-99b1-a6721cb355c0",
   "metadata": {},
   "source": [
    "no null values"
   ]
  },
  {
   "cell_type": "code",
   "execution_count": 5,
   "id": "f1f4fca9-5baf-4349-b63e-caa8ff2c282d",
   "metadata": {},
   "outputs": [
    {
     "data": {
      "text/html": [
       "<div>\n",
       "<style scoped>\n",
       "    .dataframe tbody tr th:only-of-type {\n",
       "        vertical-align: middle;\n",
       "    }\n",
       "\n",
       "    .dataframe tbody tr th {\n",
       "        vertical-align: top;\n",
       "    }\n",
       "\n",
       "    .dataframe thead th {\n",
       "        text-align: right;\n",
       "    }\n",
       "</style>\n",
       "<table border=\"1\" class=\"dataframe\">\n",
       "  <thead>\n",
       "    <tr style=\"text-align: right;\">\n",
       "      <th></th>\n",
       "      <th>id</th>\n",
       "      <th>keywords</th>\n",
       "    </tr>\n",
       "  </thead>\n",
       "  <tbody>\n",
       "    <tr>\n",
       "      <th>0</th>\n",
       "      <td>862</td>\n",
       "      <td>[{'id': 931, 'name': 'jealousy'}, {'id': 4290,...</td>\n",
       "    </tr>\n",
       "    <tr>\n",
       "      <th>1</th>\n",
       "      <td>8844</td>\n",
       "      <td>[{'id': 10090, 'name': 'board game'}, {'id': 1...</td>\n",
       "    </tr>\n",
       "    <tr>\n",
       "      <th>2</th>\n",
       "      <td>15602</td>\n",
       "      <td>[{'id': 1495, 'name': 'fishing'}, {'id': 12392...</td>\n",
       "    </tr>\n",
       "    <tr>\n",
       "      <th>3</th>\n",
       "      <td>31357</td>\n",
       "      <td>[{'id': 818, 'name': 'based on novel'}, {'id':...</td>\n",
       "    </tr>\n",
       "    <tr>\n",
       "      <th>4</th>\n",
       "      <td>11862</td>\n",
       "      <td>[{'id': 1009, 'name': 'baby'}, {'id': 1599, 'n...</td>\n",
       "    </tr>\n",
       "  </tbody>\n",
       "</table>\n",
       "</div>"
      ],
      "text/plain": [
       "      id                                           keywords\n",
       "0    862  [{'id': 931, 'name': 'jealousy'}, {'id': 4290,...\n",
       "1   8844  [{'id': 10090, 'name': 'board game'}, {'id': 1...\n",
       "2  15602  [{'id': 1495, 'name': 'fishing'}, {'id': 12392...\n",
       "3  31357  [{'id': 818, 'name': 'based on novel'}, {'id':...\n",
       "4  11862  [{'id': 1009, 'name': 'baby'}, {'id': 1599, 'n..."
      ]
     },
     "execution_count": 5,
     "metadata": {},
     "output_type": "execute_result"
    }
   ],
   "source": [
    "keywords_df=pd.read_csv('D:/Desktop/DS projects/movie/keywords.csv')\n",
    "keywords_df.head()"
   ]
  },
  {
   "cell_type": "code",
   "execution_count": 6,
   "id": "bf3b251c-0866-4892-bdc4-ccb449167ded",
   "metadata": {},
   "outputs": [
    {
     "data": {
      "text/plain": [
       "id           int64\n",
       "keywords    object\n",
       "dtype: object"
      ]
     },
     "execution_count": 6,
     "metadata": {},
     "output_type": "execute_result"
    }
   ],
   "source": [
    "keywords_df.dtypes"
   ]
  },
  {
   "cell_type": "code",
   "execution_count": 7,
   "id": "c0a5d1a7-e15b-4648-98a0-9dd4f5706457",
   "metadata": {},
   "outputs": [
    {
     "data": {
      "text/plain": [
       "Index(['cast', 'crew', 'id', 'keywords'], dtype='object')"
      ]
     },
     "execution_count": 7,
     "metadata": {},
     "output_type": "execute_result"
    }
   ],
   "source": [
    "criditskeywords_df=cridits_df.merge(keywords_df,on=\"id\")\n",
    "#criditskeywords_df.head()\n",
    "criditskeywords_df.columns"
   ]
  },
  {
   "cell_type": "code",
   "execution_count": 8,
   "id": "fd0e6c80-58c8-4115-8373-f44a229cff1f",
   "metadata": {},
   "outputs": [
    {
     "data": {
      "text/plain": [
       "(46496, 4)"
      ]
     },
     "execution_count": 8,
     "metadata": {},
     "output_type": "execute_result"
    }
   ],
   "source": [
    "#check for shape of new dataframe\n",
    "criditskeywords_df.shape"
   ]
  },
  {
   "cell_type": "markdown",
   "id": "d9312526-713c-48c2-b9e9-b4fbff47eb9d",
   "metadata": {},
   "source": [
    "import link.csv data set for id maping of movies"
   ]
  },
  {
   "cell_type": "code",
   "execution_count": 9,
   "id": "b39a4950-d08f-4596-a039-abcc21c6a503",
   "metadata": {},
   "outputs": [
    {
     "data": {
      "text/plain": [
       "movieId      int64\n",
       "imdbId       int64\n",
       "tmdbId     float64\n",
       "dtype: object"
      ]
     },
     "execution_count": 9,
     "metadata": {},
     "output_type": "execute_result"
    }
   ],
   "source": [
    "links_df=pd.read_csv('D:/Desktop/DS projects/movie/links.csv')\n",
    "#links_df.head()\n",
    "links_df.dtypes\n"
   ]
  },
  {
   "cell_type": "markdown",
   "id": "ca35410f-ef08-46a6-a8ab-7af2d1beeee0",
   "metadata": {},
   "source": [
    "assuming movieID and ID same in cridits and keywords"
   ]
  },
  {
   "cell_type": "code",
   "execution_count": 10,
   "id": "a3b6d998-c490-4dd9-9f0d-b788f30f8307",
   "metadata": {},
   "outputs": [
    {
     "name": "stdout",
     "output_type": "stream",
     "text": [
      "<class 'pandas.core.frame.DataFrame'>\n",
      "RangeIndex: 45843 entries, 0 to 45842\n",
      "Data columns (total 3 columns):\n",
      " #   Column   Non-Null Count  Dtype  \n",
      "---  ------   --------------  -----  \n",
      " 0   movieId  45843 non-null  int64  \n",
      " 1   imdbId   45843 non-null  int64  \n",
      " 2   tmdbId   45624 non-null  float64\n",
      "dtypes: float64(1), int64(2)\n",
      "memory usage: 1.0 MB\n"
     ]
    }
   ],
   "source": [
    "links_df.info()"
   ]
  },
  {
   "cell_type": "code",
   "execution_count": 11,
   "id": "5d1838de-ceb4-48cb-ab29-bf6d4f648c68",
   "metadata": {},
   "outputs": [
    {
     "data": {
      "text/plain": [
       "movieId      0\n",
       "imdbId       0\n",
       "tmdbId     219\n",
       "dtype: int64"
      ]
     },
     "execution_count": 11,
     "metadata": {},
     "output_type": "execute_result"
    }
   ],
   "source": [
    "links_df.isnull().sum()"
   ]
  },
  {
   "cell_type": "markdown",
   "id": "9bca373a-ed84-4107-af2a-1fe825304611",
   "metadata": {},
   "source": [
    "links_df will be used for mapping later first check movies meta data and ratings"
   ]
  },
  {
   "cell_type": "code",
   "execution_count": 12,
   "id": "6fd85b92-d422-450e-ac28-e6e2f07be2a7",
   "metadata": {},
   "outputs": [
    {
     "name": "stdout",
     "output_type": "stream",
     "text": [
      "<class 'pandas.core.frame.DataFrame'>\n",
      "RangeIndex: 45463 entries, 0 to 45462\n",
      "Data columns (total 24 columns):\n",
      " #   Column                 Non-Null Count  Dtype  \n",
      "---  ------                 --------------  -----  \n",
      " 0   adult                  45463 non-null  bool   \n",
      " 1   belongs_to_collection  4491 non-null   object \n",
      " 2   budget                 45463 non-null  int64  \n",
      " 3   genres                 45463 non-null  object \n",
      " 4   homepage               7779 non-null   object \n",
      " 5   id                     45463 non-null  int64  \n",
      " 6   imdb_id                45446 non-null  object \n",
      " 7   original_language      45452 non-null  object \n",
      " 8   original_title         45463 non-null  object \n",
      " 9   overview               44509 non-null  object \n",
      " 10  popularity             45460 non-null  float64\n",
      " 11  poster_path            45077 non-null  object \n",
      " 12  production_companies   45460 non-null  object \n",
      " 13  production_countries   45460 non-null  object \n",
      " 14  release_date           45376 non-null  object \n",
      " 15  revenue                45460 non-null  float64\n",
      " 16  runtime                45203 non-null  float64\n",
      " 17  spoken_languages       45460 non-null  object \n",
      " 18  status                 45379 non-null  object \n",
      " 19  tagline                20412 non-null  object \n",
      " 20  title                  45460 non-null  object \n",
      " 21  video                  45460 non-null  object \n",
      " 22  vote_average           45460 non-null  float64\n",
      " 23  vote_count             45460 non-null  float64\n",
      "dtypes: bool(1), float64(5), int64(2), object(16)\n",
      "memory usage: 8.0+ MB\n"
     ]
    }
   ],
   "source": [
    "metadata_df=pd.read_csv('D:/Desktop/DS projects/movie/movies_metadata.csv',low_memory=False)\n",
    "metadata_df.info()"
   ]
  },
  {
   "cell_type": "code",
   "execution_count": 13,
   "id": "d0a48f31-790d-4fdd-8899-94c6ce05e3e0",
   "metadata": {},
   "outputs": [
    {
     "data": {
      "text/html": [
       "<div>\n",
       "<style scoped>\n",
       "    .dataframe tbody tr th:only-of-type {\n",
       "        vertical-align: middle;\n",
       "    }\n",
       "\n",
       "    .dataframe tbody tr th {\n",
       "        vertical-align: top;\n",
       "    }\n",
       "\n",
       "    .dataframe thead th {\n",
       "        text-align: right;\n",
       "    }\n",
       "</style>\n",
       "<table border=\"1\" class=\"dataframe\">\n",
       "  <thead>\n",
       "    <tr style=\"text-align: right;\">\n",
       "      <th></th>\n",
       "      <th>adult</th>\n",
       "      <th>belongs_to_collection</th>\n",
       "      <th>budget</th>\n",
       "      <th>genres</th>\n",
       "      <th>homepage</th>\n",
       "      <th>id</th>\n",
       "      <th>imdb_id</th>\n",
       "      <th>original_language</th>\n",
       "      <th>original_title</th>\n",
       "      <th>overview</th>\n",
       "      <th>popularity</th>\n",
       "      <th>poster_path</th>\n",
       "      <th>production_companies</th>\n",
       "      <th>production_countries</th>\n",
       "      <th>release_date</th>\n",
       "      <th>revenue</th>\n",
       "      <th>runtime</th>\n",
       "      <th>spoken_languages</th>\n",
       "      <th>status</th>\n",
       "      <th>tagline</th>\n",
       "      <th>title</th>\n",
       "      <th>video</th>\n",
       "      <th>vote_average</th>\n",
       "      <th>vote_count</th>\n",
       "    </tr>\n",
       "  </thead>\n",
       "  <tbody>\n",
       "    <tr>\n",
       "      <th>0</th>\n",
       "      <td>False</td>\n",
       "      <td>{'id': 10194, 'name': 'Toy Story Collection', ...</td>\n",
       "      <td>30000000</td>\n",
       "      <td>[{'id': 16, 'name': 'Animation'}, {'id': 35, '...</td>\n",
       "      <td>http://toystory.disney.com/toy-story</td>\n",
       "      <td>862</td>\n",
       "      <td>tt0114709</td>\n",
       "      <td>en</td>\n",
       "      <td>Toy Story</td>\n",
       "      <td>Led by Woody, Andy's toys live happily in his ...</td>\n",
       "      <td>21.946943</td>\n",
       "      <td>/rhIRbceoE9lR4veEXuwCC2wARtG.jpg</td>\n",
       "      <td>[{'name': 'Pixar Animation Studios', 'id': 3}]</td>\n",
       "      <td>[{'iso_3166_1': 'US', 'name': 'United States o...</td>\n",
       "      <td>30-10-1995</td>\n",
       "      <td>373554033.0</td>\n",
       "      <td>81.0</td>\n",
       "      <td>[{'iso_639_1': 'en', 'name': 'English'}]</td>\n",
       "      <td>Released</td>\n",
       "      <td>NaN</td>\n",
       "      <td>Toy Story</td>\n",
       "      <td>False</td>\n",
       "      <td>7.7</td>\n",
       "      <td>5415.0</td>\n",
       "    </tr>\n",
       "    <tr>\n",
       "      <th>1</th>\n",
       "      <td>False</td>\n",
       "      <td>NaN</td>\n",
       "      <td>65000000</td>\n",
       "      <td>[{'id': 12, 'name': 'Adventure'}, {'id': 14, '...</td>\n",
       "      <td>NaN</td>\n",
       "      <td>8844</td>\n",
       "      <td>tt0113497</td>\n",
       "      <td>en</td>\n",
       "      <td>Jumanji</td>\n",
       "      <td>When siblings Judy and Peter discover an encha...</td>\n",
       "      <td>17.015539</td>\n",
       "      <td>/vzmL6fP7aPKNKPRTFnZmiUfciyV.jpg</td>\n",
       "      <td>[{'name': 'TriStar Pictures', 'id': 559}, {'na...</td>\n",
       "      <td>[{'iso_3166_1': 'US', 'name': 'United States o...</td>\n",
       "      <td>15-12-1995</td>\n",
       "      <td>262797249.0</td>\n",
       "      <td>104.0</td>\n",
       "      <td>[{'iso_639_1': 'en', 'name': 'English'}, {'iso...</td>\n",
       "      <td>Released</td>\n",
       "      <td>Roll the dice and unleash the excitement!</td>\n",
       "      <td>Jumanji</td>\n",
       "      <td>False</td>\n",
       "      <td>6.9</td>\n",
       "      <td>2413.0</td>\n",
       "    </tr>\n",
       "    <tr>\n",
       "      <th>2</th>\n",
       "      <td>False</td>\n",
       "      <td>{'id': 119050, 'name': 'Grumpy Old Men Collect...</td>\n",
       "      <td>0</td>\n",
       "      <td>[{'id': 10749, 'name': 'Romance'}, {'id': 35, ...</td>\n",
       "      <td>NaN</td>\n",
       "      <td>15602</td>\n",
       "      <td>tt0113228</td>\n",
       "      <td>en</td>\n",
       "      <td>Grumpier Old Men</td>\n",
       "      <td>A family wedding reignites the ancient feud be...</td>\n",
       "      <td>11.712900</td>\n",
       "      <td>/6ksm1sjKMFLbO7UY2i6G1ju9SML.jpg</td>\n",
       "      <td>[{'name': 'Warner Bros.', 'id': 6194}, {'name'...</td>\n",
       "      <td>[{'iso_3166_1': 'US', 'name': 'United States o...</td>\n",
       "      <td>22-12-1995</td>\n",
       "      <td>0.0</td>\n",
       "      <td>101.0</td>\n",
       "      <td>[{'iso_639_1': 'en', 'name': 'English'}]</td>\n",
       "      <td>Released</td>\n",
       "      <td>Still Yelling. Still Fighting. Still Ready for...</td>\n",
       "      <td>Grumpier Old Men</td>\n",
       "      <td>False</td>\n",
       "      <td>6.5</td>\n",
       "      <td>92.0</td>\n",
       "    </tr>\n",
       "    <tr>\n",
       "      <th>3</th>\n",
       "      <td>False</td>\n",
       "      <td>NaN</td>\n",
       "      <td>16000000</td>\n",
       "      <td>[{'id': 35, 'name': 'Comedy'}, {'id': 18, 'nam...</td>\n",
       "      <td>NaN</td>\n",
       "      <td>31357</td>\n",
       "      <td>tt0114885</td>\n",
       "      <td>en</td>\n",
       "      <td>Waiting to Exhale</td>\n",
       "      <td>Cheated on, mistreated and stepped on, the wom...</td>\n",
       "      <td>3.859495</td>\n",
       "      <td>/16XOMpEaLWkrcPqSQqhTmeJuqQl.jpg</td>\n",
       "      <td>[{'name': 'Twentieth Century Fox Film Corporat...</td>\n",
       "      <td>[{'iso_3166_1': 'US', 'name': 'United States o...</td>\n",
       "      <td>22-12-1995</td>\n",
       "      <td>81452156.0</td>\n",
       "      <td>127.0</td>\n",
       "      <td>[{'iso_639_1': 'en', 'name': 'English'}]</td>\n",
       "      <td>Released</td>\n",
       "      <td>Friends are the people who let you be yourself...</td>\n",
       "      <td>Waiting to Exhale</td>\n",
       "      <td>False</td>\n",
       "      <td>6.1</td>\n",
       "      <td>34.0</td>\n",
       "    </tr>\n",
       "    <tr>\n",
       "      <th>4</th>\n",
       "      <td>False</td>\n",
       "      <td>{'id': 96871, 'name': 'Father of the Bride Col...</td>\n",
       "      <td>0</td>\n",
       "      <td>[{'id': 35, 'name': 'Comedy'}]</td>\n",
       "      <td>NaN</td>\n",
       "      <td>11862</td>\n",
       "      <td>tt0113041</td>\n",
       "      <td>en</td>\n",
       "      <td>Father of the Bride Part II</td>\n",
       "      <td>Just when George Banks has recovered from his ...</td>\n",
       "      <td>8.387519</td>\n",
       "      <td>/e64sOI48hQXyru7naBFyssKFxVd.jpg</td>\n",
       "      <td>[{'name': 'Sandollar Productions', 'id': 5842}...</td>\n",
       "      <td>[{'iso_3166_1': 'US', 'name': 'United States o...</td>\n",
       "      <td>10-02-1995</td>\n",
       "      <td>76578911.0</td>\n",
       "      <td>106.0</td>\n",
       "      <td>[{'iso_639_1': 'en', 'name': 'English'}]</td>\n",
       "      <td>Released</td>\n",
       "      <td>Just When His World Is Back To Normal... He's ...</td>\n",
       "      <td>Father of the Bride Part II</td>\n",
       "      <td>False</td>\n",
       "      <td>5.7</td>\n",
       "      <td>173.0</td>\n",
       "    </tr>\n",
       "  </tbody>\n",
       "</table>\n",
       "</div>"
      ],
      "text/plain": [
       "   adult                              belongs_to_collection    budget  \\\n",
       "0  False  {'id': 10194, 'name': 'Toy Story Collection', ...  30000000   \n",
       "1  False                                                NaN  65000000   \n",
       "2  False  {'id': 119050, 'name': 'Grumpy Old Men Collect...         0   \n",
       "3  False                                                NaN  16000000   \n",
       "4  False  {'id': 96871, 'name': 'Father of the Bride Col...         0   \n",
       "\n",
       "                                              genres  \\\n",
       "0  [{'id': 16, 'name': 'Animation'}, {'id': 35, '...   \n",
       "1  [{'id': 12, 'name': 'Adventure'}, {'id': 14, '...   \n",
       "2  [{'id': 10749, 'name': 'Romance'}, {'id': 35, ...   \n",
       "3  [{'id': 35, 'name': 'Comedy'}, {'id': 18, 'nam...   \n",
       "4                     [{'id': 35, 'name': 'Comedy'}]   \n",
       "\n",
       "                               homepage     id    imdb_id original_language  \\\n",
       "0  http://toystory.disney.com/toy-story    862  tt0114709                en   \n",
       "1                                   NaN   8844  tt0113497                en   \n",
       "2                                   NaN  15602  tt0113228                en   \n",
       "3                                   NaN  31357  tt0114885                en   \n",
       "4                                   NaN  11862  tt0113041                en   \n",
       "\n",
       "                original_title  \\\n",
       "0                    Toy Story   \n",
       "1                      Jumanji   \n",
       "2             Grumpier Old Men   \n",
       "3            Waiting to Exhale   \n",
       "4  Father of the Bride Part II   \n",
       "\n",
       "                                            overview  popularity  \\\n",
       "0  Led by Woody, Andy's toys live happily in his ...   21.946943   \n",
       "1  When siblings Judy and Peter discover an encha...   17.015539   \n",
       "2  A family wedding reignites the ancient feud be...   11.712900   \n",
       "3  Cheated on, mistreated and stepped on, the wom...    3.859495   \n",
       "4  Just when George Banks has recovered from his ...    8.387519   \n",
       "\n",
       "                        poster_path  \\\n",
       "0  /rhIRbceoE9lR4veEXuwCC2wARtG.jpg   \n",
       "1  /vzmL6fP7aPKNKPRTFnZmiUfciyV.jpg   \n",
       "2  /6ksm1sjKMFLbO7UY2i6G1ju9SML.jpg   \n",
       "3  /16XOMpEaLWkrcPqSQqhTmeJuqQl.jpg   \n",
       "4  /e64sOI48hQXyru7naBFyssKFxVd.jpg   \n",
       "\n",
       "                                production_companies  \\\n",
       "0     [{'name': 'Pixar Animation Studios', 'id': 3}]   \n",
       "1  [{'name': 'TriStar Pictures', 'id': 559}, {'na...   \n",
       "2  [{'name': 'Warner Bros.', 'id': 6194}, {'name'...   \n",
       "3  [{'name': 'Twentieth Century Fox Film Corporat...   \n",
       "4  [{'name': 'Sandollar Productions', 'id': 5842}...   \n",
       "\n",
       "                                production_countries release_date  \\\n",
       "0  [{'iso_3166_1': 'US', 'name': 'United States o...   30-10-1995   \n",
       "1  [{'iso_3166_1': 'US', 'name': 'United States o...   15-12-1995   \n",
       "2  [{'iso_3166_1': 'US', 'name': 'United States o...   22-12-1995   \n",
       "3  [{'iso_3166_1': 'US', 'name': 'United States o...   22-12-1995   \n",
       "4  [{'iso_3166_1': 'US', 'name': 'United States o...   10-02-1995   \n",
       "\n",
       "       revenue  runtime                                   spoken_languages  \\\n",
       "0  373554033.0     81.0           [{'iso_639_1': 'en', 'name': 'English'}]   \n",
       "1  262797249.0    104.0  [{'iso_639_1': 'en', 'name': 'English'}, {'iso...   \n",
       "2          0.0    101.0           [{'iso_639_1': 'en', 'name': 'English'}]   \n",
       "3   81452156.0    127.0           [{'iso_639_1': 'en', 'name': 'English'}]   \n",
       "4   76578911.0    106.0           [{'iso_639_1': 'en', 'name': 'English'}]   \n",
       "\n",
       "     status                                            tagline  \\\n",
       "0  Released                                                NaN   \n",
       "1  Released          Roll the dice and unleash the excitement!   \n",
       "2  Released  Still Yelling. Still Fighting. Still Ready for...   \n",
       "3  Released  Friends are the people who let you be yourself...   \n",
       "4  Released  Just When His World Is Back To Normal... He's ...   \n",
       "\n",
       "                         title  video  vote_average  vote_count  \n",
       "0                    Toy Story  False           7.7      5415.0  \n",
       "1                      Jumanji  False           6.9      2413.0  \n",
       "2             Grumpier Old Men  False           6.5        92.0  \n",
       "3            Waiting to Exhale  False           6.1        34.0  \n",
       "4  Father of the Bride Part II  False           5.7       173.0  "
      ]
     },
     "execution_count": 13,
     "metadata": {},
     "output_type": "execute_result"
    }
   ],
   "source": [
    "metadata_df.head()"
   ]
  },
  {
   "cell_type": "code",
   "execution_count": 14,
   "id": "99851aba-4718-4ed4-ac0b-d3212f602772",
   "metadata": {},
   "outputs": [
    {
     "data": {
      "text/plain": [
       "adult                        0\n",
       "belongs_to_collection    40972\n",
       "budget                       0\n",
       "genres                       0\n",
       "homepage                 37684\n",
       "id                           0\n",
       "imdb_id                     17\n",
       "original_language           11\n",
       "original_title               0\n",
       "overview                   954\n",
       "popularity                   3\n",
       "poster_path                386\n",
       "production_companies         3\n",
       "production_countries         3\n",
       "release_date                87\n",
       "revenue                      3\n",
       "runtime                    260\n",
       "spoken_languages             3\n",
       "status                      84\n",
       "tagline                  25051\n",
       "title                        3\n",
       "video                        3\n",
       "vote_average                 3\n",
       "vote_count                   3\n",
       "dtype: int64"
      ]
     },
     "execution_count": 14,
     "metadata": {},
     "output_type": "execute_result"
    }
   ],
   "source": [
    "metadata_df.isnull().sum()"
   ]
  },
  {
   "cell_type": "code",
   "execution_count": 15,
   "id": "33ed5ee3-039d-4567-ba31-e5c445d08c4a",
   "metadata": {},
   "outputs": [
    {
     "data": {
      "text/html": [
       "<div>\n",
       "<style scoped>\n",
       "    .dataframe tbody tr th:only-of-type {\n",
       "        vertical-align: middle;\n",
       "    }\n",
       "\n",
       "    .dataframe tbody tr th {\n",
       "        vertical-align: top;\n",
       "    }\n",
       "\n",
       "    .dataframe thead th {\n",
       "        text-align: right;\n",
       "    }\n",
       "</style>\n",
       "<table border=\"1\" class=\"dataframe\">\n",
       "  <thead>\n",
       "    <tr style=\"text-align: right;\">\n",
       "      <th></th>\n",
       "      <th>0</th>\n",
       "    </tr>\n",
       "  </thead>\n",
       "  <tbody>\n",
       "    <tr>\n",
       "      <th>belongs_to_collection</th>\n",
       "      <td>90.121637</td>\n",
       "    </tr>\n",
       "    <tr>\n",
       "      <th>homepage</th>\n",
       "      <td>82.889383</td>\n",
       "    </tr>\n",
       "    <tr>\n",
       "      <th>tagline</th>\n",
       "      <td>55.101951</td>\n",
       "    </tr>\n",
       "    <tr>\n",
       "      <th>overview</th>\n",
       "      <td>2.098410</td>\n",
       "    </tr>\n",
       "    <tr>\n",
       "      <th>poster_path</th>\n",
       "      <td>0.849042</td>\n",
       "    </tr>\n",
       "  </tbody>\n",
       "</table>\n",
       "</div>"
      ],
      "text/plain": [
       "                               0\n",
       "belongs_to_collection  90.121637\n",
       "homepage               82.889383\n",
       "tagline                55.101951\n",
       "overview                2.098410\n",
       "poster_path             0.849042"
      ]
     },
     "execution_count": 15,
     "metadata": {},
     "output_type": "execute_result"
    }
   ],
   "source": [
    "pd.DataFrame(metadata_df.isnull().sum()/metadata_df.shape[0] *100).sort_values(0,ascending=False)[:5]"
   ]
  },
  {
   "cell_type": "markdown",
   "id": "9f4c9ff8-8a63-4130-8abc-6eb139fef6b7",
   "metadata": {},
   "source": [
    "belongs to collection is 90% // must be empty as not all moovvies has multiple parts lets check if to keep it after reading the json\n",
    "homepage has links to the movies which is not required as 82% empty and create no value to recomendation model\n",
    "so drop homepage now\n",
    "tagling has one liner synopsis which is not usefull as well"
   ]
  },
  {
   "cell_type": "code",
   "execution_count": 16,
   "id": "ffe9e221-3bdb-4d88-9314-28241fdd58d2",
   "metadata": {},
   "outputs": [
    {
     "data": {
      "text/plain": [
       "Index(['cast', 'crew', 'id', 'keywords'], dtype='object')"
      ]
     },
     "execution_count": 16,
     "metadata": {},
     "output_type": "execute_result"
    }
   ],
   "source": [
    "criditskeywords_df.columns"
   ]
  },
  {
   "cell_type": "markdown",
   "id": "71824ff6-882b-4c9a-9c44-1e7acc45bc1a",
   "metadata": {},
   "source": [
    "id in keyword cridits and metadata is tmdid(the movie database id)\n",
    "change name of id in both dataframe"
   ]
  },
  {
   "cell_type": "code",
   "execution_count": 17,
   "id": "641219af-29fd-4af9-aee7-50b5776be1e1",
   "metadata": {},
   "outputs": [
    {
     "data": {
      "text/plain": [
       "Index(['cast', 'crew', 'tmdbid', 'keywords'], dtype='object')"
      ]
     },
     "execution_count": 17,
     "metadata": {},
     "output_type": "execute_result"
    }
   ],
   "source": [
    "criditskeywords_df.rename(columns = {'id':'tmdbid'}, inplace = True)\n",
    "\n",
    "criditskeywords_df.columns\n",
    "\n"
   ]
  },
  {
   "cell_type": "code",
   "execution_count": 18,
   "id": "05258059-2ae3-47e7-ab27-8e41ff4cf35a",
   "metadata": {},
   "outputs": [
    {
     "data": {
      "text/plain": [
       "Index(['adult', 'belongs_to_collection', 'budget', 'genres', 'homepage',\n",
       "       'tmdbid', 'imdb_id', 'original_language', 'original_title', 'overview',\n",
       "       'popularity', 'poster_path', 'production_companies',\n",
       "       'production_countries', 'release_date', 'revenue', 'runtime',\n",
       "       'spoken_languages', 'status', 'tagline', 'title', 'video',\n",
       "       'vote_average', 'vote_count'],\n",
       "      dtype='object')"
      ]
     },
     "execution_count": 18,
     "metadata": {},
     "output_type": "execute_result"
    }
   ],
   "source": [
    "metadata_df.rename(columns = {'id':'tmdbid'}, inplace = True)\n",
    "metadata_df.columns"
   ]
  },
  {
   "cell_type": "markdown",
   "id": "abf6b29e-a5fa-426a-a8e3-6c58a07800f5",
   "metadata": {},
   "source": [
    "link all data frames on links then drop extra columns"
   ]
  },
  {
   "cell_type": "code",
   "execution_count": 19,
   "id": "66946858-8d03-48d6-8519-a61af305f074",
   "metadata": {},
   "outputs": [
    {
     "data": {
      "text/plain": [
       "Index(['movieId', 'imdbId', 'tmdbid'], dtype='object')"
      ]
     },
     "execution_count": 19,
     "metadata": {},
     "output_type": "execute_result"
    }
   ],
   "source": [
    "#metadata_linked=criditskeywords_df.merge(links_df,on=\"tmdbid\")\n",
    "#metadata_linked\n",
    "#links_df.columns\n",
    "links_df.rename(columns = {'tmdbId':'tmdbid'}, inplace = True)\n",
    "links_df.columns"
   ]
  },
  {
   "cell_type": "code",
   "execution_count": 20,
   "id": "1066e705-b3f4-4217-a2b5-1eb34872b7c3",
   "metadata": {},
   "outputs": [
    {
     "data": {
      "text/plain": [
       "cast        object\n",
       "crew        object\n",
       "tmdbid       int64\n",
       "keywords    object\n",
       "movieId      int64\n",
       "imdbId       int64\n",
       "dtype: object"
      ]
     },
     "execution_count": 20,
     "metadata": {},
     "output_type": "execute_result"
    }
   ],
   "source": [
    "metadata_linked_df=criditskeywords_df.merge(links_df,on=\"tmdbid\")\n",
    "#metadata_linked_df.columns\n",
    "metadata_linked_df.dtypes"
   ]
  },
  {
   "cell_type": "code",
   "execution_count": 21,
   "id": "b6b218c1-d027-4978-b7c3-f6ccde011fd5",
   "metadata": {},
   "outputs": [
    {
     "data": {
      "text/plain": [
       "adult                       bool\n",
       "belongs_to_collection     object\n",
       "budget                     int64\n",
       "genres                    object\n",
       "homepage                  object\n",
       "tmdbid                     int64\n",
       "imdb_id                   object\n",
       "original_language         object\n",
       "original_title            object\n",
       "overview                  object\n",
       "popularity               float64\n",
       "poster_path               object\n",
       "production_companies      object\n",
       "production_countries      object\n",
       "release_date              object\n",
       "revenue                  float64\n",
       "runtime                  float64\n",
       "spoken_languages          object\n",
       "status                    object\n",
       "tagline                   object\n",
       "title                     object\n",
       "video                     object\n",
       "vote_average             float64\n",
       "vote_count               float64\n",
       "dtype: object"
      ]
     },
     "execution_count": 21,
     "metadata": {},
     "output_type": "execute_result"
    }
   ],
   "source": [
    "metadata_df.dtypes"
   ]
  },
  {
   "cell_type": "markdown",
   "id": "3e20ef5d-d334-4ee4-b1ca-d58cba07c62b",
   "metadata": {},
   "source": [
    "one has tmdbid as object and one has as int64 \n",
    "change metadata linked_df to object as no need for int64"
   ]
  },
  {
   "cell_type": "code",
   "execution_count": 22,
   "id": "0920a53b-d76d-4733-88a8-958741e6ab63",
   "metadata": {},
   "outputs": [
    {
     "data": {
      "text/plain": [
       "cast        object\n",
       "crew        object\n",
       "tmdbid      object\n",
       "keywords    object\n",
       "movieId      int64\n",
       "imdbId       int64\n",
       "dtype: object"
      ]
     },
     "execution_count": 22,
     "metadata": {},
     "output_type": "execute_result"
    }
   ],
   "source": [
    "metadata_linked_df['tmdbid'] = metadata_linked_df['tmdbid'].apply(str)\n",
    "metadata_df['tmdbid'] = metadata_df['tmdbid'].apply(str)\n",
    "#df['Price'] = df['Price'].apply(str)\n",
    "metadata_linked_df.dtypes"
   ]
  },
  {
   "cell_type": "code",
   "execution_count": 23,
   "id": "3a3cf6d8-d796-4833-8283-14b66c9f8533",
   "metadata": {},
   "outputs": [
    {
     "data": {
      "text/plain": [
       "Index(['cast', 'crew', 'tmdbid', 'keywords', 'movieId', 'imdbId', 'adult',\n",
       "       'belongs_to_collection', 'budget', 'genres', 'homepage', 'imdb_id',\n",
       "       'original_language', 'original_title', 'overview', 'popularity',\n",
       "       'poster_path', 'production_companies', 'production_countries',\n",
       "       'release_date', 'revenue', 'runtime', 'spoken_languages', 'status',\n",
       "       'tagline', 'title', 'video', 'vote_average', 'vote_count'],\n",
       "      dtype='object')"
      ]
     },
     "execution_count": 23,
     "metadata": {},
     "output_type": "execute_result"
    }
   ],
   "source": [
    "metadata_linked_df=metadata_linked_df.merge(metadata_df,on=\"tmdbid\")\n",
    "metadata_linked_df.columns"
   ]
  },
  {
   "cell_type": "code",
   "execution_count": 24,
   "id": "e965f8d4-f9b0-453d-b48a-396cdbff5e60",
   "metadata": {},
   "outputs": [
    {
     "name": "stdout",
     "output_type": "stream",
     "text": [
      "<class 'pandas.core.frame.DataFrame'>\n",
      "RangeIndex: 46910 entries, 0 to 46909\n",
      "Data columns (total 29 columns):\n",
      " #   Column                 Non-Null Count  Dtype  \n",
      "---  ------                 --------------  -----  \n",
      " 0   cast                   46910 non-null  object \n",
      " 1   crew                   46910 non-null  object \n",
      " 2   tmdbid                 46910 non-null  object \n",
      " 3   keywords               46910 non-null  object \n",
      " 4   movieId                46910 non-null  int64  \n",
      " 5   imdbId                 46910 non-null  int64  \n",
      " 6   adult                  46910 non-null  bool   \n",
      " 7   belongs_to_collection  4602 non-null   object \n",
      " 8   budget                 46910 non-null  int64  \n",
      " 9   genres                 46910 non-null  object \n",
      " 10  homepage               8049 non-null   object \n",
      " 11  imdb_id                46893 non-null  object \n",
      " 12  original_language      46899 non-null  object \n",
      " 13  original_title         46910 non-null  object \n",
      " 14  overview               45915 non-null  object \n",
      " 15  popularity             46906 non-null  float64\n",
      " 16  poster_path            46511 non-null  object \n",
      " 17  production_companies   46906 non-null  object \n",
      " 18  production_countries   46906 non-null  object \n",
      " 19  release_date           46822 non-null  object \n",
      " 20  revenue                46906 non-null  float64\n",
      " 21  runtime                46642 non-null  float64\n",
      " 22  spoken_languages       46906 non-null  object \n",
      " 23  status                 46824 non-null  object \n",
      " 24  tagline                20909 non-null  object \n",
      " 25  title                  46906 non-null  object \n",
      " 26  video                  46906 non-null  object \n",
      " 27  vote_average           46906 non-null  float64\n",
      " 28  vote_count             46906 non-null  float64\n",
      "dtypes: bool(1), float64(5), int64(3), object(20)\n",
      "memory usage: 10.1+ MB\n"
     ]
    }
   ],
   "source": [
    "metadata_linked_df.info()"
   ]
  },
  {
   "cell_type": "markdown",
   "id": "2746d94a-99a6-4183-96ec-3f47a0088e3d",
   "metadata": {},
   "source": [
    "change all columns to appropiate dtypes\n",
    "      4   movieId                  47528 non-null  int64  to obj\n",
    "      5   imdbId                   47528 non-null  int64  to obj\n",
    "      6   adult                 47528 non-null  object to boolean\n",
    "      11  imdb_id                47511 non-null  objectdrop as repeated column\n",
    "      15  popularity             47524 non-null  object to float64\n",
    "      19  release_date           47440 non-null  object to datetime\n",
    "      26  video                  46906 non-null  object to boolean but no discriiption as what is so drop video"
   ]
  },
  {
   "cell_type": "code",
   "execution_count": 25,
   "id": "52848465-4e88-474f-8343-112ea46ab81e",
   "metadata": {},
   "outputs": [
    {
     "name": "stdout",
     "output_type": "stream",
     "text": [
      "<class 'pandas.core.frame.DataFrame'>\n",
      "RangeIndex: 46910 entries, 0 to 46909\n",
      "Data columns (total 27 columns):\n",
      " #   Column                 Non-Null Count  Dtype         \n",
      "---  ------                 --------------  -----         \n",
      " 0   cast                   46910 non-null  object        \n",
      " 1   crew                   46910 non-null  object        \n",
      " 2   tmdbid                 46910 non-null  object        \n",
      " 3   keywords               46910 non-null  object        \n",
      " 4   movieId                46910 non-null  object        \n",
      " 5   imdbId                 46910 non-null  object        \n",
      " 6   adult                  46910 non-null  bool          \n",
      " 7   belongs_to_collection  4602 non-null   object        \n",
      " 8   budget                 46910 non-null  int64         \n",
      " 9   genres                 46910 non-null  object        \n",
      " 10  homepage               8049 non-null   object        \n",
      " 11  original_language      46899 non-null  object        \n",
      " 12  original_title         46910 non-null  object        \n",
      " 13  overview               45915 non-null  object        \n",
      " 14  popularity             46906 non-null  float64       \n",
      " 15  poster_path            46511 non-null  object        \n",
      " 16  production_companies   46906 non-null  object        \n",
      " 17  production_countries   46906 non-null  object        \n",
      " 18  release_date           46822 non-null  datetime64[ns]\n",
      " 19  revenue                46906 non-null  float64       \n",
      " 20  runtime                46642 non-null  float64       \n",
      " 21  spoken_languages       46906 non-null  object        \n",
      " 22  status                 46824 non-null  object        \n",
      " 23  tagline                20909 non-null  object        \n",
      " 24  title                  46906 non-null  object        \n",
      " 25  vote_average           46906 non-null  float64       \n",
      " 26  vote_count             46906 non-null  float64       \n",
      "dtypes: bool(1), datetime64[ns](1), float64(5), int64(1), object(19)\n",
      "memory usage: 9.4+ MB\n"
     ]
    }
   ],
   "source": [
    "metadata_linked_df['movieId'] = metadata_linked_df['movieId'].apply(str)\n",
    "metadata_linked_df['imdbId'] = metadata_linked_df['imdbId'].apply(str)\n",
    "\n",
    "#metadata_linked_df.info()\n",
    "#metadata_linked_df['adult'].head()\n",
    "metadata_linked_df.drop(['imdb_id','video'],axis=1, inplace=True)\n",
    "\n",
    "metadata_linked_df['popularity'] = metadata_linked_df['popularity'].astype(float)\n",
    "metadata_linked_df['release_date'] = pd.to_datetime(metadata_linked_df['release_date'],format='mixed')\n",
    "#metadata_linked_df['release_date'].head()\n",
    "metadata_linked_df.info()\n",
    "#metadata_linked_df['adult']"
   ]
  },
  {
   "cell_type": "markdown",
   "id": "70a69fc6-b7a7-489e-aa35-b7220063d9cc",
   "metadata": {},
   "source": [
    "drop more columns which are not required\n"
   ]
  },
  {
   "cell_type": "code",
   "execution_count": 26,
   "id": "ee0a4880-1d9f-422b-b261-39cd2645cb69",
   "metadata": {},
   "outputs": [],
   "source": [
    "#metadata_linked_df['original_language'].value_counts()\n",
    "#drop budget cause not required for recommendation\n",
    "#homepape \n",
    "#drop popularity too cause we will filter on tags and popularity not required same with production companies and production countries and spoken launguages\n",
    "#drop release date for now \n",
    "#drop runtime too \n",
    "#status check first with taglin\n",
    "#drop bellongs to collection now till finding a way to incoporate it into keywords columns later\n",
    "#drop stauts and tagline and title\n",
    "#keep \n",
    "#original movies has mostly english movies so cannot filter based on original launguage so drop original launguage\n",
    "metadata_linked_df.drop(['budget','adult','revenue','vote_average','vote_count','original_language','homepage','popularity','production_companies','production_countries','belongs_to_collection','poster_path','spoken_languages','runtime','status','tagline','original_title'],axis=1, inplace=True)"
   ]
  },
  {
   "cell_type": "markdown",
   "id": "f5c23155-9f25-49a0-8437-d1887421ea73",
   "metadata": {},
   "source": [
    "save this cleaned file for further recommendation building"
   ]
  },
  {
   "cell_type": "code",
   "execution_count": 27,
   "id": "b39d678f-7ec2-443d-9e7a-9b71c992ac78",
   "metadata": {},
   "outputs": [],
   "source": [
    "metadata_linked_df.to_pickle('movies.pickle')"
   ]
  },
  {
   "cell_type": "code",
   "execution_count": 28,
   "id": "3b127d0d-d9ad-4472-8e8e-537c0f0b1c73",
   "metadata": {},
   "outputs": [
    {
     "name": "stdout",
     "output_type": "stream",
     "text": [
      "<class 'pandas.core.frame.DataFrame'>\n",
      "RangeIndex: 46910 entries, 0 to 46909\n",
      "Data columns (total 10 columns):\n",
      " #   Column        Non-Null Count  Dtype         \n",
      "---  ------        --------------  -----         \n",
      " 0   cast          46910 non-null  object        \n",
      " 1   crew          46910 non-null  object        \n",
      " 2   tmdbid        46910 non-null  object        \n",
      " 3   keywords      46910 non-null  object        \n",
      " 4   movieId       46910 non-null  object        \n",
      " 5   imdbId        46910 non-null  object        \n",
      " 6   genres        46910 non-null  object        \n",
      " 7   overview      45915 non-null  object        \n",
      " 8   release_date  46822 non-null  datetime64[ns]\n",
      " 9   title         46906 non-null  object        \n",
      "dtypes: datetime64[ns](1), object(9)\n",
      "memory usage: 3.6+ MB\n"
     ]
    }
   ],
   "source": [
    "movies_df=pd.read_pickle('D:/Desktop/DS projects/movie/movies.pickle')\n",
    "#movies_df.head()\n",
    "movies_df.info()"
   ]
  },
  {
   "cell_type": "code",
   "execution_count": 29,
   "id": "3df88c52-20a6-47b6-8920-5efc003d1f5c",
   "metadata": {},
   "outputs": [
    {
     "data": {
      "text/plain": [
       "cast              0\n",
       "crew              0\n",
       "tmdbid            0\n",
       "keywords          0\n",
       "movieId           0\n",
       "imdbId            0\n",
       "genres            0\n",
       "overview        995\n",
       "release_date     88\n",
       "title             4\n",
       "dtype: int64"
      ]
     },
     "execution_count": 29,
     "metadata": {},
     "output_type": "execute_result"
    }
   ],
   "source": [
    "movies_df.isnull().sum()"
   ]
  },
  {
   "cell_type": "markdown",
   "id": "57589fd7-d5dd-470d-a5f8-f5fb648f9fd9",
   "metadata": {},
   "source": [
    "very low ammount of missing data so we can just drop it"
   ]
  },
  {
   "cell_type": "code",
   "execution_count": 30,
   "id": "72be41e2-1c93-477a-9cf6-1a5f97e96ded",
   "metadata": {},
   "outputs": [
    {
     "data": {
      "text/plain": [
       "cast            0\n",
       "crew            0\n",
       "tmdbid          0\n",
       "keywords        0\n",
       "movieId         0\n",
       "imdbId          0\n",
       "genres          0\n",
       "overview        0\n",
       "release_date    0\n",
       "title           0\n",
       "dtype: int64"
      ]
     },
     "execution_count": 30,
     "metadata": {},
     "output_type": "execute_result"
    }
   ],
   "source": [
    "movies_df.dropna(inplace=True)\n",
    "movies_df.isnull().sum()"
   ]
  },
  {
   "cell_type": "code",
   "execution_count": 31,
   "id": "585b1452-118e-4814-a1e0-11648c56906b",
   "metadata": {},
   "outputs": [
    {
     "data": {
      "text/html": [
       "<div>\n",
       "<style scoped>\n",
       "    .dataframe tbody tr th:only-of-type {\n",
       "        vertical-align: middle;\n",
       "    }\n",
       "\n",
       "    .dataframe tbody tr th {\n",
       "        vertical-align: top;\n",
       "    }\n",
       "\n",
       "    .dataframe thead th {\n",
       "        text-align: right;\n",
       "    }\n",
       "</style>\n",
       "<table border=\"1\" class=\"dataframe\">\n",
       "  <thead>\n",
       "    <tr style=\"text-align: right;\">\n",
       "      <th></th>\n",
       "      <th>cast</th>\n",
       "      <th>crew</th>\n",
       "      <th>tmdbid</th>\n",
       "      <th>keywords</th>\n",
       "      <th>movieId</th>\n",
       "      <th>imdbId</th>\n",
       "      <th>genres</th>\n",
       "      <th>overview</th>\n",
       "      <th>release_date</th>\n",
       "      <th>title</th>\n",
       "    </tr>\n",
       "  </thead>\n",
       "  <tbody>\n",
       "    <tr>\n",
       "      <th>0</th>\n",
       "      <td>[{'cast_id': 14, 'character': 'Woody (voice)',...</td>\n",
       "      <td>[{'credit_id': '52fe4284c3a36847f8024f49', 'de...</td>\n",
       "      <td>862</td>\n",
       "      <td>[{'id': 931, 'name': 'jealousy'}, {'id': 4290,...</td>\n",
       "      <td>1</td>\n",
       "      <td>114709</td>\n",
       "      <td>[{'id': 16, 'name': 'Animation'}, {'id': 35, '...</td>\n",
       "      <td>Led by Woody, Andy's toys live happily in his ...</td>\n",
       "      <td>1995-10-30</td>\n",
       "      <td>Toy Story</td>\n",
       "    </tr>\n",
       "    <tr>\n",
       "      <th>1</th>\n",
       "      <td>[{'cast_id': 1, 'character': 'Alan Parrish', '...</td>\n",
       "      <td>[{'credit_id': '52fe44bfc3a36847f80a7cd1', 'de...</td>\n",
       "      <td>8844</td>\n",
       "      <td>[{'id': 10090, 'name': 'board game'}, {'id': 1...</td>\n",
       "      <td>2</td>\n",
       "      <td>113497</td>\n",
       "      <td>[{'id': 12, 'name': 'Adventure'}, {'id': 14, '...</td>\n",
       "      <td>When siblings Judy and Peter discover an encha...</td>\n",
       "      <td>1995-12-15</td>\n",
       "      <td>Jumanji</td>\n",
       "    </tr>\n",
       "    <tr>\n",
       "      <th>2</th>\n",
       "      <td>[{'cast_id': 2, 'character': 'Max Goldman', 'c...</td>\n",
       "      <td>[{'credit_id': '52fe466a9251416c75077a89', 'de...</td>\n",
       "      <td>15602</td>\n",
       "      <td>[{'id': 1495, 'name': 'fishing'}, {'id': 12392...</td>\n",
       "      <td>3</td>\n",
       "      <td>113228</td>\n",
       "      <td>[{'id': 10749, 'name': 'Romance'}, {'id': 35, ...</td>\n",
       "      <td>A family wedding reignites the ancient feud be...</td>\n",
       "      <td>1995-12-22</td>\n",
       "      <td>Grumpier Old Men</td>\n",
       "    </tr>\n",
       "    <tr>\n",
       "      <th>3</th>\n",
       "      <td>[{'cast_id': 1, 'character': \"Savannah 'Vannah...</td>\n",
       "      <td>[{'credit_id': '52fe44779251416c91011acb', 'de...</td>\n",
       "      <td>31357</td>\n",
       "      <td>[{'id': 818, 'name': 'based on novel'}, {'id':...</td>\n",
       "      <td>4</td>\n",
       "      <td>114885</td>\n",
       "      <td>[{'id': 35, 'name': 'Comedy'}, {'id': 18, 'nam...</td>\n",
       "      <td>Cheated on, mistreated and stepped on, the wom...</td>\n",
       "      <td>1995-12-22</td>\n",
       "      <td>Waiting to Exhale</td>\n",
       "    </tr>\n",
       "    <tr>\n",
       "      <th>4</th>\n",
       "      <td>[{'cast_id': 1, 'character': 'George Banks', '...</td>\n",
       "      <td>[{'credit_id': '52fe44959251416c75039ed7', 'de...</td>\n",
       "      <td>11862</td>\n",
       "      <td>[{'id': 1009, 'name': 'baby'}, {'id': 1599, 'n...</td>\n",
       "      <td>5</td>\n",
       "      <td>113041</td>\n",
       "      <td>[{'id': 35, 'name': 'Comedy'}]</td>\n",
       "      <td>Just when George Banks has recovered from his ...</td>\n",
       "      <td>1995-10-02</td>\n",
       "      <td>Father of the Bride Part II</td>\n",
       "    </tr>\n",
       "  </tbody>\n",
       "</table>\n",
       "</div>"
      ],
      "text/plain": [
       "                                                cast  \\\n",
       "0  [{'cast_id': 14, 'character': 'Woody (voice)',...   \n",
       "1  [{'cast_id': 1, 'character': 'Alan Parrish', '...   \n",
       "2  [{'cast_id': 2, 'character': 'Max Goldman', 'c...   \n",
       "3  [{'cast_id': 1, 'character': \"Savannah 'Vannah...   \n",
       "4  [{'cast_id': 1, 'character': 'George Banks', '...   \n",
       "\n",
       "                                                crew tmdbid  \\\n",
       "0  [{'credit_id': '52fe4284c3a36847f8024f49', 'de...    862   \n",
       "1  [{'credit_id': '52fe44bfc3a36847f80a7cd1', 'de...   8844   \n",
       "2  [{'credit_id': '52fe466a9251416c75077a89', 'de...  15602   \n",
       "3  [{'credit_id': '52fe44779251416c91011acb', 'de...  31357   \n",
       "4  [{'credit_id': '52fe44959251416c75039ed7', 'de...  11862   \n",
       "\n",
       "                                            keywords movieId  imdbId  \\\n",
       "0  [{'id': 931, 'name': 'jealousy'}, {'id': 4290,...       1  114709   \n",
       "1  [{'id': 10090, 'name': 'board game'}, {'id': 1...       2  113497   \n",
       "2  [{'id': 1495, 'name': 'fishing'}, {'id': 12392...       3  113228   \n",
       "3  [{'id': 818, 'name': 'based on novel'}, {'id':...       4  114885   \n",
       "4  [{'id': 1009, 'name': 'baby'}, {'id': 1599, 'n...       5  113041   \n",
       "\n",
       "                                              genres  \\\n",
       "0  [{'id': 16, 'name': 'Animation'}, {'id': 35, '...   \n",
       "1  [{'id': 12, 'name': 'Adventure'}, {'id': 14, '...   \n",
       "2  [{'id': 10749, 'name': 'Romance'}, {'id': 35, ...   \n",
       "3  [{'id': 35, 'name': 'Comedy'}, {'id': 18, 'nam...   \n",
       "4                     [{'id': 35, 'name': 'Comedy'}]   \n",
       "\n",
       "                                            overview release_date  \\\n",
       "0  Led by Woody, Andy's toys live happily in his ...   1995-10-30   \n",
       "1  When siblings Judy and Peter discover an encha...   1995-12-15   \n",
       "2  A family wedding reignites the ancient feud be...   1995-12-22   \n",
       "3  Cheated on, mistreated and stepped on, the wom...   1995-12-22   \n",
       "4  Just when George Banks has recovered from his ...   1995-10-02   \n",
       "\n",
       "                         title  \n",
       "0                    Toy Story  \n",
       "1                      Jumanji  \n",
       "2             Grumpier Old Men  \n",
       "3            Waiting to Exhale  \n",
       "4  Father of the Bride Part II  "
      ]
     },
     "execution_count": 31,
     "metadata": {},
     "output_type": "execute_result"
    }
   ],
   "source": [
    "movies_df.head()"
   ]
  },
  {
   "cell_type": "markdown",
   "id": "e727ab51-6c92-4bde-9ba7-2f47b249b3ef",
   "metadata": {},
   "source": [
    "cast crew keyword genre are in jason dictionary so for key word we need to transform them into list first"
   ]
  },
  {
   "cell_type": "code",
   "execution_count": 32,
   "id": "c001c508-1649-486f-9731-1333db485d78",
   "metadata": {},
   "outputs": [
    {
     "data": {
      "text/html": [
       "<div>\n",
       "<style scoped>\n",
       "    .dataframe tbody tr th:only-of-type {\n",
       "        vertical-align: middle;\n",
       "    }\n",
       "\n",
       "    .dataframe tbody tr th {\n",
       "        vertical-align: top;\n",
       "    }\n",
       "\n",
       "    .dataframe thead th {\n",
       "        text-align: right;\n",
       "    }\n",
       "</style>\n",
       "<table border=\"1\" class=\"dataframe\">\n",
       "  <thead>\n",
       "    <tr style=\"text-align: right;\">\n",
       "      <th></th>\n",
       "      <th>cast</th>\n",
       "      <th>crew</th>\n",
       "      <th>tmdbid</th>\n",
       "      <th>keywords</th>\n",
       "      <th>movieId</th>\n",
       "      <th>imdbId</th>\n",
       "      <th>genres</th>\n",
       "      <th>overview</th>\n",
       "      <th>release_date</th>\n",
       "      <th>title</th>\n",
       "    </tr>\n",
       "  </thead>\n",
       "  <tbody>\n",
       "    <tr>\n",
       "      <th>0</th>\n",
       "      <td>[{'cast_id': 14, 'character': 'Woody (voice)',...</td>\n",
       "      <td>[{'credit_id': '52fe4284c3a36847f8024f49', 'de...</td>\n",
       "      <td>862</td>\n",
       "      <td>[{'id': 931, 'name': 'jealousy'}, {'id': 4290,...</td>\n",
       "      <td>1</td>\n",
       "      <td>114709</td>\n",
       "      <td>[{'id': 16, 'name': 'Animation'}, {'id': 35, '...</td>\n",
       "      <td>Led by Woody, Andy's toys live happily in his ...</td>\n",
       "      <td>1995-10-30</td>\n",
       "      <td>Toy Story</td>\n",
       "    </tr>\n",
       "    <tr>\n",
       "      <th>1</th>\n",
       "      <td>[{'cast_id': 1, 'character': 'Alan Parrish', '...</td>\n",
       "      <td>[{'credit_id': '52fe44bfc3a36847f80a7cd1', 'de...</td>\n",
       "      <td>8844</td>\n",
       "      <td>[{'id': 10090, 'name': 'board game'}, {'id': 1...</td>\n",
       "      <td>2</td>\n",
       "      <td>113497</td>\n",
       "      <td>[{'id': 12, 'name': 'Adventure'}, {'id': 14, '...</td>\n",
       "      <td>When siblings Judy and Peter discover an encha...</td>\n",
       "      <td>1995-12-15</td>\n",
       "      <td>Jumanji</td>\n",
       "    </tr>\n",
       "    <tr>\n",
       "      <th>2</th>\n",
       "      <td>[{'cast_id': 2, 'character': 'Max Goldman', 'c...</td>\n",
       "      <td>[{'credit_id': '52fe466a9251416c75077a89', 'de...</td>\n",
       "      <td>15602</td>\n",
       "      <td>[{'id': 1495, 'name': 'fishing'}, {'id': 12392...</td>\n",
       "      <td>3</td>\n",
       "      <td>113228</td>\n",
       "      <td>[{'id': 10749, 'name': 'Romance'}, {'id': 35, ...</td>\n",
       "      <td>A family wedding reignites the ancient feud be...</td>\n",
       "      <td>1995-12-22</td>\n",
       "      <td>Grumpier Old Men</td>\n",
       "    </tr>\n",
       "    <tr>\n",
       "      <th>3</th>\n",
       "      <td>[{'cast_id': 1, 'character': \"Savannah 'Vannah...</td>\n",
       "      <td>[{'credit_id': '52fe44779251416c91011acb', 'de...</td>\n",
       "      <td>31357</td>\n",
       "      <td>[{'id': 818, 'name': 'based on novel'}, {'id':...</td>\n",
       "      <td>4</td>\n",
       "      <td>114885</td>\n",
       "      <td>[{'id': 35, 'name': 'Comedy'}, {'id': 18, 'nam...</td>\n",
       "      <td>Cheated on, mistreated and stepped on, the wom...</td>\n",
       "      <td>1995-12-22</td>\n",
       "      <td>Waiting to Exhale</td>\n",
       "    </tr>\n",
       "    <tr>\n",
       "      <th>4</th>\n",
       "      <td>[{'cast_id': 1, 'character': 'George Banks', '...</td>\n",
       "      <td>[{'credit_id': '52fe44959251416c75039ed7', 'de...</td>\n",
       "      <td>11862</td>\n",
       "      <td>[{'id': 1009, 'name': 'baby'}, {'id': 1599, 'n...</td>\n",
       "      <td>5</td>\n",
       "      <td>113041</td>\n",
       "      <td>[{'id': 35, 'name': 'Comedy'}]</td>\n",
       "      <td>Just when George Banks has recovered from his ...</td>\n",
       "      <td>1995-10-02</td>\n",
       "      <td>Father of the Bride Part II</td>\n",
       "    </tr>\n",
       "  </tbody>\n",
       "</table>\n",
       "</div>"
      ],
      "text/plain": [
       "                                                cast  \\\n",
       "0  [{'cast_id': 14, 'character': 'Woody (voice)',...   \n",
       "1  [{'cast_id': 1, 'character': 'Alan Parrish', '...   \n",
       "2  [{'cast_id': 2, 'character': 'Max Goldman', 'c...   \n",
       "3  [{'cast_id': 1, 'character': \"Savannah 'Vannah...   \n",
       "4  [{'cast_id': 1, 'character': 'George Banks', '...   \n",
       "\n",
       "                                                crew tmdbid  \\\n",
       "0  [{'credit_id': '52fe4284c3a36847f8024f49', 'de...    862   \n",
       "1  [{'credit_id': '52fe44bfc3a36847f80a7cd1', 'de...   8844   \n",
       "2  [{'credit_id': '52fe466a9251416c75077a89', 'de...  15602   \n",
       "3  [{'credit_id': '52fe44779251416c91011acb', 'de...  31357   \n",
       "4  [{'credit_id': '52fe44959251416c75039ed7', 'de...  11862   \n",
       "\n",
       "                                            keywords movieId  imdbId  \\\n",
       "0  [{'id': 931, 'name': 'jealousy'}, {'id': 4290,...       1  114709   \n",
       "1  [{'id': 10090, 'name': 'board game'}, {'id': 1...       2  113497   \n",
       "2  [{'id': 1495, 'name': 'fishing'}, {'id': 12392...       3  113228   \n",
       "3  [{'id': 818, 'name': 'based on novel'}, {'id':...       4  114885   \n",
       "4  [{'id': 1009, 'name': 'baby'}, {'id': 1599, 'n...       5  113041   \n",
       "\n",
       "                                              genres  \\\n",
       "0  [{'id': 16, 'name': 'Animation'}, {'id': 35, '...   \n",
       "1  [{'id': 12, 'name': 'Adventure'}, {'id': 14, '...   \n",
       "2  [{'id': 10749, 'name': 'Romance'}, {'id': 35, ...   \n",
       "3  [{'id': 35, 'name': 'Comedy'}, {'id': 18, 'nam...   \n",
       "4                     [{'id': 35, 'name': 'Comedy'}]   \n",
       "\n",
       "                                            overview release_date  \\\n",
       "0  Led by Woody, Andy's toys live happily in his ...   1995-10-30   \n",
       "1  When siblings Judy and Peter discover an encha...   1995-12-15   \n",
       "2  A family wedding reignites the ancient feud be...   1995-12-22   \n",
       "3  Cheated on, mistreated and stepped on, the wom...   1995-12-22   \n",
       "4  Just when George Banks has recovered from his ...   1995-10-02   \n",
       "\n",
       "                         title  \n",
       "0                    Toy Story  \n",
       "1                      Jumanji  \n",
       "2             Grumpier Old Men  \n",
       "3            Waiting to Exhale  \n",
       "4  Father of the Bride Part II  "
      ]
     },
     "execution_count": 32,
     "metadata": {},
     "output_type": "execute_result"
    }
   ],
   "source": [
    "import ast\n",
    "import numpy as np\n",
    "movies_df.head()"
   ]
  },
  {
   "cell_type": "code",
   "execution_count": 33,
   "id": "5529a926-0e70-426c-9d6b-e61931547ad7",
   "metadata": {},
   "outputs": [],
   "source": [
    "def transformGenreKey(genrecol):\n",
    "    List=[]\n",
    "\n",
    "    for i in ast.literal_eval(genrecol):\n",
    "        List.append(i['name'])\n",
    "        \n",
    "    return List \n",
    "\n",
    "\n",
    "def transformcast(castcol):\n",
    "    List=[]\n",
    "# just hope for mercy and let top/famous actor will be sorted first\n",
    "    k=0\n",
    "    while k<3:\n",
    "        for i in ast.literal_eval(castcol):\n",
    "            List.append(i['name'])\n",
    "        k+=1\n",
    "    return List \n",
    "\n",
    "\n",
    "\n",
    "\n",
    "#from crew we just need director\n",
    "def transformCrew(crewcol):\n",
    "    List=[]\n",
    "\n",
    "    for i in ast.literal_eval(crewcol):\n",
    "        if i['job']==\"Director\":\n",
    "            List.append(i['name'])\n",
    "        \n",
    "    return List \n"
   ]
  },
  {
   "cell_type": "code",
   "execution_count": 34,
   "id": "97549b17-9f6f-48de-a4c0-98e297515f4f",
   "metadata": {},
   "outputs": [],
   "source": [
    "movies_df['genres']=movies_df['genres'].apply(transformGenreKey)\n",
    "movies_df['cast']=movies_df['cast'].apply(transformcast)\n",
    "movies_df['keywords']=movies_df['keywords'].apply(transformGenreKey)\n",
    "movies_df['crew']=movies_df['crew'].apply(transformCrew)\n"
   ]
  },
  {
   "cell_type": "code",
   "execution_count": 35,
   "id": "9d3a0297-e295-4ecf-9d15-11ae95462b03",
   "metadata": {},
   "outputs": [
    {
     "name": "stdout",
     "output_type": "stream",
     "text": [
      "<class 'pandas.core.frame.DataFrame'>\n",
      "Index: 45840 entries, 0 to 46909\n",
      "Data columns (total 10 columns):\n",
      " #   Column        Non-Null Count  Dtype         \n",
      "---  ------        --------------  -----         \n",
      " 0   cast          45840 non-null  object        \n",
      " 1   crew          45840 non-null  object        \n",
      " 2   tmdbid        45840 non-null  object        \n",
      " 3   keywords      45840 non-null  object        \n",
      " 4   movieId       45840 non-null  object        \n",
      " 5   imdbId        45840 non-null  object        \n",
      " 6   genres        45840 non-null  object        \n",
      " 7   overview      45840 non-null  object        \n",
      " 8   release_date  45840 non-null  datetime64[ns]\n",
      " 9   title         45840 non-null  object        \n",
      "dtypes: datetime64[ns](1), object(9)\n",
      "memory usage: 3.8+ MB\n"
     ]
    }
   ],
   "source": [
    "movies_df.info()\n",
    "    "
   ]
  },
  {
   "cell_type": "markdown",
   "id": "879a4a29-e929-4e38-9bd5-370a6b37031b",
   "metadata": {},
   "source": [
    "for keyword of name there is space between names that causes full name to be read as different keys so remove spaces from all keywords\n"
   ]
  },
  {
   "cell_type": "code",
   "execution_count": 36,
   "id": "1bf2fed6-208a-4eb2-8049-18b7c4292b7b",
   "metadata": {},
   "outputs": [],
   "source": [
    "def spaces(col):\n",
    "    keys = []\n",
    "    for i in col:\n",
    "        keys.append(i.replace(\" \",\"\"))\n",
    "    return keys\n"
   ]
  },
  {
   "cell_type": "code",
   "execution_count": 37,
   "id": "8910a049-cfb8-4d65-aff7-e7d2fc689983",
   "metadata": {},
   "outputs": [
    {
     "data": {
      "text/html": [
       "<div>\n",
       "<style scoped>\n",
       "    .dataframe tbody tr th:only-of-type {\n",
       "        vertical-align: middle;\n",
       "    }\n",
       "\n",
       "    .dataframe tbody tr th {\n",
       "        vertical-align: top;\n",
       "    }\n",
       "\n",
       "    .dataframe thead th {\n",
       "        text-align: right;\n",
       "    }\n",
       "</style>\n",
       "<table border=\"1\" class=\"dataframe\">\n",
       "  <thead>\n",
       "    <tr style=\"text-align: right;\">\n",
       "      <th></th>\n",
       "      <th>cast</th>\n",
       "      <th>crew</th>\n",
       "      <th>tmdbid</th>\n",
       "      <th>keywords</th>\n",
       "      <th>movieId</th>\n",
       "      <th>imdbId</th>\n",
       "      <th>genres</th>\n",
       "      <th>overview</th>\n",
       "      <th>release_date</th>\n",
       "      <th>title</th>\n",
       "    </tr>\n",
       "  </thead>\n",
       "  <tbody>\n",
       "    <tr>\n",
       "      <th>0</th>\n",
       "      <td>[TomHanks, TimAllen, DonRickles, JimVarney, Wa...</td>\n",
       "      <td>[JohnLasseter]</td>\n",
       "      <td>862</td>\n",
       "      <td>[jealousy, toy, boy, friendship, friends, riva...</td>\n",
       "      <td>1</td>\n",
       "      <td>114709</td>\n",
       "      <td>[Animation, Comedy, Family]</td>\n",
       "      <td>Led by Woody, Andy's toys live happily in his ...</td>\n",
       "      <td>1995-10-30</td>\n",
       "      <td>Toy Story</td>\n",
       "    </tr>\n",
       "    <tr>\n",
       "      <th>1</th>\n",
       "      <td>[RobinWilliams, JonathanHyde, KirstenDunst, Br...</td>\n",
       "      <td>[JoeJohnston]</td>\n",
       "      <td>8844</td>\n",
       "      <td>[boardgame, disappearance, basedonchildren'sbo...</td>\n",
       "      <td>2</td>\n",
       "      <td>113497</td>\n",
       "      <td>[Adventure, Fantasy, Family]</td>\n",
       "      <td>When siblings Judy and Peter discover an encha...</td>\n",
       "      <td>1995-12-15</td>\n",
       "      <td>Jumanji</td>\n",
       "    </tr>\n",
       "    <tr>\n",
       "      <th>2</th>\n",
       "      <td>[WalterMatthau, JackLemmon, Ann-Margret, Sophi...</td>\n",
       "      <td>[HowardDeutch]</td>\n",
       "      <td>15602</td>\n",
       "      <td>[fishing, bestfriend, duringcreditsstinger, ol...</td>\n",
       "      <td>3</td>\n",
       "      <td>113228</td>\n",
       "      <td>[Romance, Comedy]</td>\n",
       "      <td>A family wedding reignites the ancient feud be...</td>\n",
       "      <td>1995-12-22</td>\n",
       "      <td>Grumpier Old Men</td>\n",
       "    </tr>\n",
       "    <tr>\n",
       "      <th>3</th>\n",
       "      <td>[WhitneyHouston, AngelaBassett, LorettaDevine,...</td>\n",
       "      <td>[ForestWhitaker]</td>\n",
       "      <td>31357</td>\n",
       "      <td>[basedonnovel, interracialrelationship, single...</td>\n",
       "      <td>4</td>\n",
       "      <td>114885</td>\n",
       "      <td>[Comedy, Drama, Romance]</td>\n",
       "      <td>Cheated on, mistreated and stepped on, the wom...</td>\n",
       "      <td>1995-12-22</td>\n",
       "      <td>Waiting to Exhale</td>\n",
       "    </tr>\n",
       "    <tr>\n",
       "      <th>4</th>\n",
       "      <td>[SteveMartin, DianeKeaton, MartinShort, Kimber...</td>\n",
       "      <td>[CharlesShyer]</td>\n",
       "      <td>11862</td>\n",
       "      <td>[baby, midlifecrisis, confidence, aging, daugh...</td>\n",
       "      <td>5</td>\n",
       "      <td>113041</td>\n",
       "      <td>[Comedy]</td>\n",
       "      <td>Just when George Banks has recovered from his ...</td>\n",
       "      <td>1995-10-02</td>\n",
       "      <td>Father of the Bride Part II</td>\n",
       "    </tr>\n",
       "  </tbody>\n",
       "</table>\n",
       "</div>"
      ],
      "text/plain": [
       "                                                cast              crew tmdbid  \\\n",
       "0  [TomHanks, TimAllen, DonRickles, JimVarney, Wa...    [JohnLasseter]    862   \n",
       "1  [RobinWilliams, JonathanHyde, KirstenDunst, Br...     [JoeJohnston]   8844   \n",
       "2  [WalterMatthau, JackLemmon, Ann-Margret, Sophi...    [HowardDeutch]  15602   \n",
       "3  [WhitneyHouston, AngelaBassett, LorettaDevine,...  [ForestWhitaker]  31357   \n",
       "4  [SteveMartin, DianeKeaton, MartinShort, Kimber...    [CharlesShyer]  11862   \n",
       "\n",
       "                                            keywords movieId  imdbId  \\\n",
       "0  [jealousy, toy, boy, friendship, friends, riva...       1  114709   \n",
       "1  [boardgame, disappearance, basedonchildren'sbo...       2  113497   \n",
       "2  [fishing, bestfriend, duringcreditsstinger, ol...       3  113228   \n",
       "3  [basedonnovel, interracialrelationship, single...       4  114885   \n",
       "4  [baby, midlifecrisis, confidence, aging, daugh...       5  113041   \n",
       "\n",
       "                         genres  \\\n",
       "0   [Animation, Comedy, Family]   \n",
       "1  [Adventure, Fantasy, Family]   \n",
       "2             [Romance, Comedy]   \n",
       "3      [Comedy, Drama, Romance]   \n",
       "4                      [Comedy]   \n",
       "\n",
       "                                            overview release_date  \\\n",
       "0  Led by Woody, Andy's toys live happily in his ...   1995-10-30   \n",
       "1  When siblings Judy and Peter discover an encha...   1995-12-15   \n",
       "2  A family wedding reignites the ancient feud be...   1995-12-22   \n",
       "3  Cheated on, mistreated and stepped on, the wom...   1995-12-22   \n",
       "4  Just when George Banks has recovered from his ...   1995-10-02   \n",
       "\n",
       "                         title  \n",
       "0                    Toy Story  \n",
       "1                      Jumanji  \n",
       "2             Grumpier Old Men  \n",
       "3            Waiting to Exhale  \n",
       "4  Father of the Bride Part II  "
      ]
     },
     "execution_count": 37,
     "metadata": {},
     "output_type": "execute_result"
    }
   ],
   "source": [
    "#movies_df['crew'].apply(spaces)\n",
    "movies_df['genres']=movies_df['genres'].apply(spaces)\n",
    "movies_df['cast']=movies_df['cast'].apply(spaces)\n",
    "movies_df['keywords']=movies_df['keywords'].apply(spaces)\n",
    "movies_df['crew']=movies_df['crew'].apply(spaces)\n",
    "movies_df.head()"
   ]
  },
  {
   "cell_type": "markdown",
   "id": "48df4479-1314-4535-bc1f-bd411f76b088",
   "metadata": {},
   "source": [
    "overview has spaces and each word whould be key word"
   ]
  },
  {
   "cell_type": "code",
   "execution_count": 38,
   "id": "311cd147-db8e-4932-911f-e91cb1d389c4",
   "metadata": {
    "scrolled": true
   },
   "outputs": [],
   "source": [
    "#movies_df['overview'][0]"
   ]
  },
  {
   "cell_type": "code",
   "execution_count": 39,
   "id": "ac64ac1e-61e6-4f93-9763-25576fcc4492",
   "metadata": {},
   "outputs": [],
   "source": [
    "movies_df['overview'] = movies_df['overview'].apply(lambda x:x.split())\n",
    "#movies_df['overview'][0]"
   ]
  },
  {
   "cell_type": "code",
   "execution_count": 40,
   "id": "c7cfdbe9-185d-44b0-9deb-808dfa4f0bcb",
   "metadata": {},
   "outputs": [
    {
     "data": {
      "text/html": [
       "<div>\n",
       "<style scoped>\n",
       "    .dataframe tbody tr th:only-of-type {\n",
       "        vertical-align: middle;\n",
       "    }\n",
       "\n",
       "    .dataframe tbody tr th {\n",
       "        vertical-align: top;\n",
       "    }\n",
       "\n",
       "    .dataframe thead th {\n",
       "        text-align: right;\n",
       "    }\n",
       "</style>\n",
       "<table border=\"1\" class=\"dataframe\">\n",
       "  <thead>\n",
       "    <tr style=\"text-align: right;\">\n",
       "      <th></th>\n",
       "      <th>cast</th>\n",
       "      <th>crew</th>\n",
       "      <th>tmdbid</th>\n",
       "      <th>keywords</th>\n",
       "      <th>movieId</th>\n",
       "      <th>imdbId</th>\n",
       "      <th>genres</th>\n",
       "      <th>overview</th>\n",
       "      <th>release_date</th>\n",
       "      <th>title</th>\n",
       "    </tr>\n",
       "  </thead>\n",
       "  <tbody>\n",
       "    <tr>\n",
       "      <th>0</th>\n",
       "      <td>[TomHanks, TimAllen, DonRickles, JimVarney, Wa...</td>\n",
       "      <td>[JohnLasseter]</td>\n",
       "      <td>862</td>\n",
       "      <td>[jealousy, toy, boy, friendship, friends, riva...</td>\n",
       "      <td>1</td>\n",
       "      <td>114709</td>\n",
       "      <td>[Animation, Comedy, Family]</td>\n",
       "      <td>[Led, by, Woody,, Andy's, toys, live, happily,...</td>\n",
       "      <td>1995-10-30</td>\n",
       "      <td>Toy Story</td>\n",
       "    </tr>\n",
       "    <tr>\n",
       "      <th>1</th>\n",
       "      <td>[RobinWilliams, JonathanHyde, KirstenDunst, Br...</td>\n",
       "      <td>[JoeJohnston]</td>\n",
       "      <td>8844</td>\n",
       "      <td>[boardgame, disappearance, basedonchildren'sbo...</td>\n",
       "      <td>2</td>\n",
       "      <td>113497</td>\n",
       "      <td>[Adventure, Fantasy, Family]</td>\n",
       "      <td>[When, siblings, Judy, and, Peter, discover, a...</td>\n",
       "      <td>1995-12-15</td>\n",
       "      <td>Jumanji</td>\n",
       "    </tr>\n",
       "    <tr>\n",
       "      <th>2</th>\n",
       "      <td>[WalterMatthau, JackLemmon, Ann-Margret, Sophi...</td>\n",
       "      <td>[HowardDeutch]</td>\n",
       "      <td>15602</td>\n",
       "      <td>[fishing, bestfriend, duringcreditsstinger, ol...</td>\n",
       "      <td>3</td>\n",
       "      <td>113228</td>\n",
       "      <td>[Romance, Comedy]</td>\n",
       "      <td>[A, family, wedding, reignites, the, ancient, ...</td>\n",
       "      <td>1995-12-22</td>\n",
       "      <td>Grumpier Old Men</td>\n",
       "    </tr>\n",
       "    <tr>\n",
       "      <th>3</th>\n",
       "      <td>[WhitneyHouston, AngelaBassett, LorettaDevine,...</td>\n",
       "      <td>[ForestWhitaker]</td>\n",
       "      <td>31357</td>\n",
       "      <td>[basedonnovel, interracialrelationship, single...</td>\n",
       "      <td>4</td>\n",
       "      <td>114885</td>\n",
       "      <td>[Comedy, Drama, Romance]</td>\n",
       "      <td>[Cheated, on,, mistreated, and, stepped, on,, ...</td>\n",
       "      <td>1995-12-22</td>\n",
       "      <td>Waiting to Exhale</td>\n",
       "    </tr>\n",
       "    <tr>\n",
       "      <th>4</th>\n",
       "      <td>[SteveMartin, DianeKeaton, MartinShort, Kimber...</td>\n",
       "      <td>[CharlesShyer]</td>\n",
       "      <td>11862</td>\n",
       "      <td>[baby, midlifecrisis, confidence, aging, daugh...</td>\n",
       "      <td>5</td>\n",
       "      <td>113041</td>\n",
       "      <td>[Comedy]</td>\n",
       "      <td>[Just, when, George, Banks, has, recovered, fr...</td>\n",
       "      <td>1995-10-02</td>\n",
       "      <td>Father of the Bride Part II</td>\n",
       "    </tr>\n",
       "  </tbody>\n",
       "</table>\n",
       "</div>"
      ],
      "text/plain": [
       "                                                cast              crew tmdbid  \\\n",
       "0  [TomHanks, TimAllen, DonRickles, JimVarney, Wa...    [JohnLasseter]    862   \n",
       "1  [RobinWilliams, JonathanHyde, KirstenDunst, Br...     [JoeJohnston]   8844   \n",
       "2  [WalterMatthau, JackLemmon, Ann-Margret, Sophi...    [HowardDeutch]  15602   \n",
       "3  [WhitneyHouston, AngelaBassett, LorettaDevine,...  [ForestWhitaker]  31357   \n",
       "4  [SteveMartin, DianeKeaton, MartinShort, Kimber...    [CharlesShyer]  11862   \n",
       "\n",
       "                                            keywords movieId  imdbId  \\\n",
       "0  [jealousy, toy, boy, friendship, friends, riva...       1  114709   \n",
       "1  [boardgame, disappearance, basedonchildren'sbo...       2  113497   \n",
       "2  [fishing, bestfriend, duringcreditsstinger, ol...       3  113228   \n",
       "3  [basedonnovel, interracialrelationship, single...       4  114885   \n",
       "4  [baby, midlifecrisis, confidence, aging, daugh...       5  113041   \n",
       "\n",
       "                         genres  \\\n",
       "0   [Animation, Comedy, Family]   \n",
       "1  [Adventure, Fantasy, Family]   \n",
       "2             [Romance, Comedy]   \n",
       "3      [Comedy, Drama, Romance]   \n",
       "4                      [Comedy]   \n",
       "\n",
       "                                            overview release_date  \\\n",
       "0  [Led, by, Woody,, Andy's, toys, live, happily,...   1995-10-30   \n",
       "1  [When, siblings, Judy, and, Peter, discover, a...   1995-12-15   \n",
       "2  [A, family, wedding, reignites, the, ancient, ...   1995-12-22   \n",
       "3  [Cheated, on,, mistreated, and, stepped, on,, ...   1995-12-22   \n",
       "4  [Just, when, George, Banks, has, recovered, fr...   1995-10-02   \n",
       "\n",
       "                         title  \n",
       "0                    Toy Story  \n",
       "1                      Jumanji  \n",
       "2             Grumpier Old Men  \n",
       "3            Waiting to Exhale  \n",
       "4  Father of the Bride Part II  "
      ]
     },
     "execution_count": 40,
     "metadata": {},
     "output_type": "execute_result"
    }
   ],
   "source": [
    "movies_df.head()"
   ]
  },
  {
   "cell_type": "code",
   "execution_count": 41,
   "id": "cf0633d0-01bc-49ee-bee3-7792723745d0",
   "metadata": {},
   "outputs": [],
   "source": [
    "#ratings_df['movieId'] = ratings_df['movieId'].apply(str)\n",
    "#ratings_df.dtypes\n",
    "#recommend_df=ratings_df.merge(movies_df,on=\"movieId\")\n",
    "#recommend_df.head()\n",
    "#recommend_df.to_pickle('recommend.pickle')\n",
    "#ratings_df=pd.read_csv('D:/Desktop/DS projects/movie/ratings.csv')"
   ]
  },
  {
   "cell_type": "code",
   "execution_count": 42,
   "id": "273a7664-448f-48fd-8dca-35b6f4e55e66",
   "metadata": {},
   "outputs": [],
   "source": [
    "movies_df['keys'] = movies_df['overview'] + movies_df['genres'] + movies_df['keywords'] + movies_df['cast'] + movies_df['crew']"
   ]
  },
  {
   "cell_type": "code",
   "execution_count": 43,
   "id": "5f47741d-185a-405b-b13b-38da14eae3a0",
   "metadata": {},
   "outputs": [
    {
     "data": {
      "text/html": [
       "<div>\n",
       "<style scoped>\n",
       "    .dataframe tbody tr th:only-of-type {\n",
       "        vertical-align: middle;\n",
       "    }\n",
       "\n",
       "    .dataframe tbody tr th {\n",
       "        vertical-align: top;\n",
       "    }\n",
       "\n",
       "    .dataframe thead th {\n",
       "        text-align: right;\n",
       "    }\n",
       "</style>\n",
       "<table border=\"1\" class=\"dataframe\">\n",
       "  <thead>\n",
       "    <tr style=\"text-align: right;\">\n",
       "      <th></th>\n",
       "      <th>tmdbid</th>\n",
       "      <th>movieId</th>\n",
       "      <th>imdbId</th>\n",
       "      <th>release_date</th>\n",
       "      <th>title</th>\n",
       "      <th>keys</th>\n",
       "    </tr>\n",
       "  </thead>\n",
       "  <tbody>\n",
       "    <tr>\n",
       "      <th>0</th>\n",
       "      <td>862</td>\n",
       "      <td>1</td>\n",
       "      <td>114709</td>\n",
       "      <td>1995-10-30</td>\n",
       "      <td>Toy Story</td>\n",
       "      <td>[Led, by, Woody,, Andy's, toys, live, happily,...</td>\n",
       "    </tr>\n",
       "    <tr>\n",
       "      <th>1</th>\n",
       "      <td>8844</td>\n",
       "      <td>2</td>\n",
       "      <td>113497</td>\n",
       "      <td>1995-12-15</td>\n",
       "      <td>Jumanji</td>\n",
       "      <td>[When, siblings, Judy, and, Peter, discover, a...</td>\n",
       "    </tr>\n",
       "    <tr>\n",
       "      <th>2</th>\n",
       "      <td>15602</td>\n",
       "      <td>3</td>\n",
       "      <td>113228</td>\n",
       "      <td>1995-12-22</td>\n",
       "      <td>Grumpier Old Men</td>\n",
       "      <td>[A, family, wedding, reignites, the, ancient, ...</td>\n",
       "    </tr>\n",
       "    <tr>\n",
       "      <th>3</th>\n",
       "      <td>31357</td>\n",
       "      <td>4</td>\n",
       "      <td>114885</td>\n",
       "      <td>1995-12-22</td>\n",
       "      <td>Waiting to Exhale</td>\n",
       "      <td>[Cheated, on,, mistreated, and, stepped, on,, ...</td>\n",
       "    </tr>\n",
       "    <tr>\n",
       "      <th>4</th>\n",
       "      <td>11862</td>\n",
       "      <td>5</td>\n",
       "      <td>113041</td>\n",
       "      <td>1995-10-02</td>\n",
       "      <td>Father of the Bride Part II</td>\n",
       "      <td>[Just, when, George, Banks, has, recovered, fr...</td>\n",
       "    </tr>\n",
       "  </tbody>\n",
       "</table>\n",
       "</div>"
      ],
      "text/plain": [
       "  tmdbid movieId  imdbId release_date                        title  \\\n",
       "0    862       1  114709   1995-10-30                    Toy Story   \n",
       "1   8844       2  113497   1995-12-15                      Jumanji   \n",
       "2  15602       3  113228   1995-12-22             Grumpier Old Men   \n",
       "3  31357       4  114885   1995-12-22            Waiting to Exhale   \n",
       "4  11862       5  113041   1995-10-02  Father of the Bride Part II   \n",
       "\n",
       "                                                keys  \n",
       "0  [Led, by, Woody,, Andy's, toys, live, happily,...  \n",
       "1  [When, siblings, Judy, and, Peter, discover, a...  \n",
       "2  [A, family, wedding, reignites, the, ancient, ...  \n",
       "3  [Cheated, on,, mistreated, and, stepped, on,, ...  \n",
       "4  [Just, when, George, Banks, has, recovered, fr...  "
      ]
     },
     "execution_count": 43,
     "metadata": {},
     "output_type": "execute_result"
    }
   ],
   "source": [
    "movies_df= movies_df.drop(columns=['overview','genres','keywords','cast','crew'])\n",
    "movies_df.head()"
   ]
  },
  {
   "cell_type": "code",
   "execution_count": 44,
   "id": "666fe6d2-7cdb-430f-b551-a6139cc1626b",
   "metadata": {},
   "outputs": [
    {
     "data": {
      "text/html": [
       "<div>\n",
       "<style scoped>\n",
       "    .dataframe tbody tr th:only-of-type {\n",
       "        vertical-align: middle;\n",
       "    }\n",
       "\n",
       "    .dataframe tbody tr th {\n",
       "        vertical-align: top;\n",
       "    }\n",
       "\n",
       "    .dataframe thead th {\n",
       "        text-align: right;\n",
       "    }\n",
       "</style>\n",
       "<table border=\"1\" class=\"dataframe\">\n",
       "  <thead>\n",
       "    <tr style=\"text-align: right;\">\n",
       "      <th></th>\n",
       "      <th>tmdbid</th>\n",
       "      <th>movieId</th>\n",
       "      <th>imdbId</th>\n",
       "      <th>release_date</th>\n",
       "      <th>title</th>\n",
       "      <th>keys</th>\n",
       "    </tr>\n",
       "  </thead>\n",
       "  <tbody>\n",
       "    <tr>\n",
       "      <th>0</th>\n",
       "      <td>862</td>\n",
       "      <td>1</td>\n",
       "      <td>114709</td>\n",
       "      <td>1995-10-30</td>\n",
       "      <td>Toy Story</td>\n",
       "      <td>Led by Woody, Andy's toys live happily in his ...</td>\n",
       "    </tr>\n",
       "    <tr>\n",
       "      <th>1</th>\n",
       "      <td>8844</td>\n",
       "      <td>2</td>\n",
       "      <td>113497</td>\n",
       "      <td>1995-12-15</td>\n",
       "      <td>Jumanji</td>\n",
       "      <td>When siblings Judy and Peter discover an encha...</td>\n",
       "    </tr>\n",
       "    <tr>\n",
       "      <th>2</th>\n",
       "      <td>15602</td>\n",
       "      <td>3</td>\n",
       "      <td>113228</td>\n",
       "      <td>1995-12-22</td>\n",
       "      <td>Grumpier Old Men</td>\n",
       "      <td>A family wedding reignites the ancient feud be...</td>\n",
       "    </tr>\n",
       "    <tr>\n",
       "      <th>3</th>\n",
       "      <td>31357</td>\n",
       "      <td>4</td>\n",
       "      <td>114885</td>\n",
       "      <td>1995-12-22</td>\n",
       "      <td>Waiting to Exhale</td>\n",
       "      <td>Cheated on, mistreated and stepped on, the wom...</td>\n",
       "    </tr>\n",
       "    <tr>\n",
       "      <th>4</th>\n",
       "      <td>11862</td>\n",
       "      <td>5</td>\n",
       "      <td>113041</td>\n",
       "      <td>1995-10-02</td>\n",
       "      <td>Father of the Bride Part II</td>\n",
       "      <td>Just when George Banks has recovered from his ...</td>\n",
       "    </tr>\n",
       "  </tbody>\n",
       "</table>\n",
       "</div>"
      ],
      "text/plain": [
       "  tmdbid movieId  imdbId release_date                        title  \\\n",
       "0    862       1  114709   1995-10-30                    Toy Story   \n",
       "1   8844       2  113497   1995-12-15                      Jumanji   \n",
       "2  15602       3  113228   1995-12-22             Grumpier Old Men   \n",
       "3  31357       4  114885   1995-12-22            Waiting to Exhale   \n",
       "4  11862       5  113041   1995-10-02  Father of the Bride Part II   \n",
       "\n",
       "                                                keys  \n",
       "0  Led by Woody, Andy's toys live happily in his ...  \n",
       "1  When siblings Judy and Peter discover an encha...  \n",
       "2  A family wedding reignites the ancient feud be...  \n",
       "3  Cheated on, mistreated and stepped on, the wom...  \n",
       "4  Just when George Banks has recovered from his ...  "
      ]
     },
     "execution_count": 44,
     "metadata": {},
     "output_type": "execute_result"
    }
   ],
   "source": [
    "movies_df['keys'] = movies_df['keys'].apply(lambda x: \" \".join(x))\n",
    "movies_df.head()"
   ]
  },
  {
   "cell_type": "code",
   "execution_count": 45,
   "id": "bdf6010d-a78e-494f-8942-2709a47f3e2d",
   "metadata": {},
   "outputs": [],
   "source": [
    "from sklearn.feature_extraction.text import CountVectorizer\n",
    "from sklearn.metrics.pairwise import cosine_similarity\n",
    "\n",
    "   "
   ]
  },
  {
   "cell_type": "code",
   "execution_count": 46,
   "id": "305dad23-261c-4283-bf63-e5083064fb4e",
   "metadata": {},
   "outputs": [
    {
     "data": {
      "text/plain": [
       "(45840, 5000)"
      ]
     },
     "execution_count": 46,
     "metadata": {},
     "output_type": "execute_result"
    }
   ],
   "source": [
    "cv = CountVectorizer(max_features=5000,stop_words='english')\n",
    "vector = cv.fit_transform(movies_df['keys']).toarray() \n",
    "vector.shape"
   ]
  },
  {
   "cell_type": "code",
   "execution_count": 47,
   "id": "ae48342f-b9db-4172-971a-ee5a7cfd4612",
   "metadata": {},
   "outputs": [],
   "source": [
    "similarity = cosine_similarity(vector)"
   ]
  },
  {
   "cell_type": "code",
   "execution_count": 58,
   "id": "2f603507-9e3a-48f7-91d9-ed4f5a417fb5",
   "metadata": {},
   "outputs": [],
   "source": [
    "movies_df[movies_df['title'] == 'Toy Story'].index[0]\n",
    "\n",
    "def recommender(moviename):\n",
    "    index = movies_df[movies_df['title'] == moviename].index[0]\n",
    "    distances = sorted(list(enumerate(similarity[index])),reverse=True,key = lambda x: x[1])\n",
    "    for i in distances[1:6]:\n",
    "        print(movies_df.iloc[i[0]].title)\n",
    "#def recommender(moviename):\n",
    "#    index = movies_df[movies_df['title'] == movies_df].index[0]\n",
    "#    distances = sorted(list(enumerate(similarity[index])),reverse=True,key = lambda x: x[1])\n",
    "#    for i in distances[1:6]:\n",
    "#        print(movies_df.iloc[i[0]].title)"
   ]
  },
  {
   "cell_type": "code",
   "execution_count": 59,
   "id": "95c4b6fc-2f29-4c35-8c32-86c62109b414",
   "metadata": {},
   "outputs": [
    {
     "name": "stdout",
     "output_type": "stream",
     "text": [
      "Liar Game: Reborn\n",
      "Dreams with Sharp Teeth\n",
      "Can I Do It Till I Need Glasses?\n",
      "Return to Me\n",
      "Robin Williams: An Evening with Robin Williams\n"
     ]
    }
   ],
   "source": [
    "recommender('Jumanji')"
   ]
  },
  {
   "cell_type": "code",
   "execution_count": null,
   "id": "8ff510cb-1349-4d67-9e98-c1620b13a930",
   "metadata": {},
   "outputs": [],
   "source": []
  }
 ],
 "metadata": {
  "kernelspec": {
   "display_name": "Python 3 (ipykernel)",
   "language": "python",
   "name": "python3"
  },
  "language_info": {
   "codemirror_mode": {
    "name": "ipython",
    "version": 3
   },
   "file_extension": ".py",
   "mimetype": "text/x-python",
   "name": "python",
   "nbconvert_exporter": "python",
   "pygments_lexer": "ipython3",
   "version": "3.10.11"
  }
 },
 "nbformat": 4,
 "nbformat_minor": 5
}
